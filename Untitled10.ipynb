{
  "nbformat": 4,
  "nbformat_minor": 0,
  "metadata": {
    "colab": {
      "provenance": [],
      "authorship_tag": "ABX9TyN0IW7w7AjOrX5Jg2pP6FhO",
      "include_colab_link": true
    },
    "kernelspec": {
      "name": "python3",
      "display_name": "Python 3"
    },
    "language_info": {
      "name": "python"
    }
  },
  "cells": [
    {
      "cell_type": "markdown",
      "metadata": {
        "id": "view-in-github",
        "colab_type": "text"
      },
      "source": [
        "<a href=\"https://colab.research.google.com/github/Olga643/Example/blob/main/Untitled10.ipynb\" target=\"_parent\"><img src=\"https://colab.research.google.com/assets/colab-badge.svg\" alt=\"Open In Colab\"/></a>"
      ]
    },
    {
      "cell_type": "markdown",
      "source": [
        "Провести дисперсионный анализ для определения того, есть ли различия среднего роста среди взрослых футболистов, хоккеистов и штангистов.\n",
        "Даны значения роста в трех группах случайно выбранных спортсменов:\n",
        "\n",
        "Футболисты: 173, 175, 180, 178, 177, 185, 183, 182.\n",
        "\n",
        "Хоккеисты: 177, 179, 180, 188, 177, 172, 171, 184, 180.\n",
        "\n",
        "Штангисты: 172, 173, 169, 177, 166, 180, 178, 177, 172, 166, 170."
      ],
      "metadata": {
        "id": "dtpzmjS5nqb5"
      }
    },
    {
      "cell_type": "code",
      "execution_count": 1,
      "metadata": {
        "id": "frsV8EpXnixL"
      },
      "outputs": [],
      "source": [
        "import numpy as np\n",
        "from scipy import stats\n",
        "from statsmodels.stats.multicomp import pairwise_tukeyhsd\n",
        "import pandas as pd"
      ]
    },
    {
      "cell_type": "code",
      "source": [
        "footballer = np.array([173, 175, 180, 178, 177, 185, 183, 182])\n",
        "hockey_player = np.array([177, 179, 180, 188, 177, 172, 171, 184, 180])\n",
        "weight_lifter = np.array([172, 173, 169, 177, 166, 180, 178, 177, 172, 166, 170])\n",
        "print(stats.shapiro(footballer))\n",
        "print(stats.shapiro(hockey_player))\n",
        "print(stats.shapiro(weight_lifter))"
      ],
      "metadata": {
        "colab": {
          "base_uri": "https://localhost:8080/"
        },
        "id": "L1zV5R7foHsY",
        "outputId": "4befa5b1-43e1-4488-d39f-db8fdd3e7e22"
      },
      "execution_count": 2,
      "outputs": [
        {
          "output_type": "stream",
          "name": "stdout",
          "text": [
            "ShapiroResult(statistic=0.9775082468986511, pvalue=0.9495404362678528)\n",
            "ShapiroResult(statistic=0.9579196572303772, pvalue=0.7763139009475708)\n",
            "ShapiroResult(statistic=0.9386808276176453, pvalue=0.5051165223121643)\n"
          ]
        }
      ]
    },
    {
      "cell_type": "markdown",
      "source": [
        "Так как pvalue > alpha, значит распределение в выборках нормальное"
      ],
      "metadata": {
        "id": "-HcsNdDgtiF9"
      }
    },
    {
      "cell_type": "code",
      "source": [
        "stats.bartlett(footballer, hockey_player, weight_lifter)"
      ],
      "metadata": {
        "colab": {
          "base_uri": "https://localhost:8080/"
        },
        "id": "AplNumNju3Dd",
        "outputId": "db7cf807-3974-4889-89d3-49f24c929223"
      },
      "execution_count": 3,
      "outputs": [
        {
          "output_type": "execute_result",
          "data": {
            "text/plain": [
              "BartlettResult(statistic=0.4640521043406442, pvalue=0.7929254656083131)"
            ]
          },
          "metadata": {},
          "execution_count": 3
        }
      ]
    },
    {
      "cell_type": "markdown",
      "source": [
        "Дисперсии между всеми группами равны, можно провести дисперсионный анализ"
      ],
      "metadata": {
        "id": "EvKBmtTgvzRL"
      }
    },
    {
      "cell_type": "code",
      "source": [
        "stats.f_oneway(footballer, hockey_player, weight_lifter)"
      ],
      "metadata": {
        "colab": {
          "base_uri": "https://localhost:8080/"
        },
        "id": "z0Yjik_EwnNa",
        "outputId": "ab85c586-5493-4f63-db22-27e0d7f2132e"
      },
      "execution_count": 4,
      "outputs": [
        {
          "output_type": "execute_result",
          "data": {
            "text/plain": [
              "F_onewayResult(statistic=5.500053450812596, pvalue=0.010482206918698694)"
            ]
          },
          "metadata": {},
          "execution_count": 4
        }
      ]
    },
    {
      "cell_type": "markdown",
      "source": [
        "Так как pvalue < alpha, различия между группами есть.\n",
        "\n",
        "Мария, а как провести post hoc тест для выборок разной длины, чтобы понять между какими группами есть различия? У меня снизу какая-то ерунда вышла"
      ],
      "metadata": {
        "id": "00JkBPYLw7QJ"
      }
    },
    {
      "cell_type": "code",
      "source": [
        "df = pd.DataFrame({\"score\": [173, 175, 180, 178, 177, 185, 183, 182, 177, 179, 180, 188, 177, 172, 171, 184, 180, 172, 173, 169, 177, 166, 180, 178, 177, 172, 166, 170 ],\n",
        "                 \"group\": [173, 175, 180, 178, 177, 185, 183, 182, 177, 179, 180, 188, 177, 172, 171, 184, 180, 172, 173, 169, 177, 166, 180, 178, 177, 172, 166, 170 ]})\n",
        "print(pairwise_tukeyhsd(df[\"score\"], df[\"group\"], alpha = 0.05))"
      ],
      "metadata": {
        "id": "NRyw9UEO8Q20"
      },
      "execution_count": null,
      "outputs": []
    },
    {
      "cell_type": "code",
      "source": [
        "stats.kruskal(footballer, hockey_player, weight_lifter)"
      ],
      "metadata": {
        "colab": {
          "base_uri": "https://localhost:8080/"
        },
        "id": "yRfKVT8Q8JFE",
        "outputId": "ce821d49-024b-497f-a9f1-9be61871a18c"
      },
      "execution_count": 9,
      "outputs": [
        {
          "output_type": "execute_result",
          "data": {
            "text/plain": [
              "KruskalResult(statistic=7.897493213863828, pvalue=0.01927885061595347)"
            ]
          },
          "metadata": {},
          "execution_count": 9
        }
      ]
    }
  ]
}