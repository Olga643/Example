{
  "nbformat": 4,
  "nbformat_minor": 0,
  "metadata": {
    "colab": {
      "provenance": [],
      "authorship_tag": "ABX9TyNXnb3h+UwFVv1aGzqdReZf",
      "include_colab_link": true
    },
    "kernelspec": {
      "name": "python3",
      "display_name": "Python 3"
    },
    "language_info": {
      "name": "python"
    }
  },
  "cells": [
    {
      "cell_type": "markdown",
      "metadata": {
        "id": "view-in-github",
        "colab_type": "text"
      },
      "source": [
        "<a href=\"https://colab.research.google.com/github/Olga643/Example/blob/main/Untitled3.ipynb\" target=\"_parent\"><img src=\"https://colab.research.google.com/assets/colab-badge.svg\" alt=\"Open In Colab\"/></a>"
      ]
    },
    {
      "cell_type": "markdown",
      "source": [
        "Известно, что генеральная совокупность распределена нормально со средним квадратическим отклонением, равным 16.\n",
        "\n",
        "Найти доверительный интервал для оценки математического ожидания a с надежностью 0.95, если выборочная средняя M = 80, а объем выборки n = 256."
      ],
      "metadata": {
        "id": "Q9J1vXB1Facr"
      }
    },
    {
      "cell_type": "code",
      "execution_count": 5,
      "metadata": {
        "id": "HwwHveohFY3j"
      },
      "outputs": [],
      "source": [
        "from scipy import stats\n",
        "import numpy as np"
      ]
    },
    {
      "cell_type": "code",
      "source": [
        "n = 256\n",
        "alpha = 0.05\n",
        "x_mean = 80\n",
        "sigma = 16\n",
        "z = stats.norm.ppf(0.975)\n",
        "x1 = x_mean + z * (sigma / np.sqrt(n))\n",
        "x2 = x_mean - z * (sigma / np.sqrt(n))\n",
        "print(f'Z-критерий:{z}, Доверительный интервал:({x2}, {x1})')"
      ],
      "metadata": {
        "colab": {
          "base_uri": "https://localhost:8080/"
        },
        "id": "OI0Iww_mGiGv",
        "outputId": "13313e55-ab24-4ade-ba3d-dfccd4a1d7f5"
      },
      "execution_count": 23,
      "outputs": [
        {
          "output_type": "stream",
          "name": "stdout",
          "text": [
            "Z-критерий:1.959963984540054, Доверительный интервал:(78.04003601545995, 81.95996398454005)\n"
          ]
        }
      ]
    },
    {
      "cell_type": "markdown",
      "source": [
        "В результате 10 независимых измерений некоторой величины X, выполненных с одинаковой точностью, получены опытные данные:\n",
        "\n",
        "6.9, 6.1, 6.2, 6.8, 7.5, 6.3, 6.4, 6.9, 6.7, 6.1\n",
        "\n",
        "Предполагая, что результаты измерений подчинены нормальному закону распределения вероятностей, оценить истинное значение величины X при помощи доверительного интервала, покрывающего это значение с доверительной вероятностью 0,95."
      ],
      "metadata": {
        "id": "vrf5Zf47KTIT"
      }
    },
    {
      "cell_type": "code",
      "source": [
        "alfa = 0.05\n",
        "a = np.array([6.9, 6.1, 6.2, 6.8, 7.5, 6.3, 6.4, 6.9, 6.7, 6.1])\n",
        "n = len(a)\n",
        "\n",
        "x_mean = np.mean(a) #среднее арифметическое по выборке\n",
        "\n",
        "D = np.var(a, ddof = 1) #несмещенная дисперсия для выборки\n",
        "\n",
        "t1 = stats.t.ppf(1- alpha / 2, df = n - 1)\n",
        "\n",
        "x1 = x_mean - t1 * (np.sqrt(D) / np.sqrt(n))\n",
        "x2 = x_mean + t1 * (np.sqrt(D) / np.sqrt(n))\n",
        "print(f'Доверительный интервал: ({x1}, {x2}); Среднее арифметическое: {x_mean}; Дисперсия: {D}; Критерий Стьюдента: {t1}')"
      ],
      "metadata": {
        "colab": {
          "base_uri": "https://localhost:8080/"
        },
        "id": "lFD8NtZxKIYL",
        "outputId": "e3820982-f061-430e-e9f0-30be105b9f61"
      },
      "execution_count": 22,
      "outputs": [
        {
          "output_type": "stream",
          "name": "stdout",
          "text": [
            "Доверительный интервал: (6.267515851415713, 6.912484148584288); Среднее арифметическое: 6.590000000000001; Дисперсия: 0.2032222222222223; Критерий Стьюдента: 2.2621571627409915\n"
          ]
        }
      ]
    }
  ]
}