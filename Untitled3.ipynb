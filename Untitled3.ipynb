{
  "nbformat": 4,
  "nbformat_minor": 0,
  "metadata": {
    "colab": {
      "provenance": [],
      "authorship_tag": "ABX9TyN1A5kfTrdWBjrOEHxjlunF",
      "include_colab_link": true
    },
    "kernelspec": {
      "name": "python3",
      "display_name": "Python 3"
    },
    "language_info": {
      "name": "python"
    }
  },
  "cells": [
    {
      "cell_type": "markdown",
      "metadata": {
        "id": "view-in-github",
        "colab_type": "text"
      },
      "source": [
        "<a href=\"https://colab.research.google.com/github/Olga643/Example/blob/main/Untitled3.ipynb\" target=\"_parent\"><img src=\"https://colab.research.google.com/assets/colab-badge.svg\" alt=\"Open In Colab\"/></a>"
      ]
    },
    {
      "cell_type": "markdown",
      "source": [
        "1.Известно, что генеральная совокупность распределена нормально со средним квадратическим отклонением, равным 16.\n",
        "\n",
        "Найти доверительный интервал для оценки математического ожидания a с надежностью 0.95, если выборочная средняя M = 80, а объем выборки n = 256."
      ],
      "metadata": {
        "id": "Q9J1vXB1Facr"
      }
    },
    {
      "cell_type": "code",
      "execution_count": 5,
      "metadata": {
        "id": "HwwHveohFY3j"
      },
      "outputs": [],
      "source": [
        "from scipy import stats\n",
        "import numpy as np"
      ]
    },
    {
      "cell_type": "code",
      "source": [
        "n = 256\n",
        "alpha = 0.05\n",
        "x_mean = 80\n",
        "sigma = 16\n",
        "z = stats.norm.ppf(0.975)\n",
        "x1 = x_mean + z * (sigma / np.sqrt(n))\n",
        "x2 = x_mean - z * (sigma / np.sqrt(n))\n",
        "print(f'Z-критерий:{z}, Доверительный интервал:({x2}, {x1})')"
      ],
      "metadata": {
        "colab": {
          "base_uri": "https://localhost:8080/"
        },
        "id": "OI0Iww_mGiGv",
        "outputId": "13313e55-ab24-4ade-ba3d-dfccd4a1d7f5"
      },
      "execution_count": 23,
      "outputs": [
        {
          "output_type": "stream",
          "name": "stdout",
          "text": [
            "Z-критерий:1.959963984540054, Доверительный интервал:(78.04003601545995, 81.95996398454005)\n"
          ]
        }
      ]
    },
    {
      "cell_type": "markdown",
      "source": [
        "2.В результате 10 независимых измерений некоторой величины X, выполненных с одинаковой точностью, получены опытные данные:\n",
        "\n",
        "6.9, 6.1, 6.2, 6.8, 7.5, 6.3, 6.4, 6.9, 6.7, 6.1\n",
        "\n",
        "Предполагая, что результаты измерений подчинены нормальному закону распределения вероятностей, оценить истинное значение величины X при помощи доверительного интервала, покрывающего это значение с доверительной вероятностью 0,95."
      ],
      "metadata": {
        "id": "vrf5Zf47KTIT"
      }
    },
    {
      "cell_type": "code",
      "source": [
        "alfa = 0.05\n",
        "a = np.array([6.9, 6.1, 6.2, 6.8, 7.5, 6.3, 6.4, 6.9, 6.7, 6.1])\n",
        "n = len(a)\n",
        "\n",
        "x_mean = np.mean(a) #среднее арифметическое по выборке\n",
        "\n",
        "D = np.var(a, ddof = 1) #несмещенная дисперсия для выборки\n",
        "\n",
        "t1 = stats.t.ppf(1- alpha / 2, df = n - 1)\n",
        "\n",
        "x1 = x_mean - t1 * (np.sqrt(D) / np.sqrt(n))\n",
        "x2 = x_mean + t1 * (np.sqrt(D) / np.sqrt(n))\n",
        "print(f'Доверительный интервал: ({x1}, {x2}); Среднее арифметическое: {x_mean}; Дисперсия: {D}; Критерий Стьюдента: {t1}')"
      ],
      "metadata": {
        "colab": {
          "base_uri": "https://localhost:8080/"
        },
        "id": "lFD8NtZxKIYL",
        "outputId": "d1782cf6-3f37-40a1-c631-78fac37461b6"
      },
      "execution_count": 24,
      "outputs": [
        {
          "output_type": "stream",
          "name": "stdout",
          "text": [
            "Доверительный интервал: (6.267515851415713, 6.912484148584288); Среднее арифметическое: 6.590000000000001; Дисперсия: 0.2032222222222223; Критерий Стьюдента: 2.2621571627409915\n"
          ]
        }
      ]
    },
    {
      "cell_type": "markdown",
      "source": [
        "3.Рост дочерей 175, 167, 154, 174, 178, 148, 160, 167, 169, 170\n",
        "\n",
        "Рост матерей  178, 165, 165, 173, 168, 155, 160, 164, 178, 175\n",
        "\n",
        "Используя эти данные построить 95% доверительный интервал для разности среднего роста родителей и детей."
      ],
      "metadata": {
        "id": "Q1duxzf5ikvJ"
      }
    },
    {
      "cell_type": "code",
      "source": [
        "a1 = np.array([175, 167, 154, 174, 178, 148, 160, 167, 169, 170])\n",
        "a2 = np.array([178, 165, 165, 173, 168, 155, 160, 164, 178, 175])\n",
        "n1 = len(a1)\n",
        "n2 = len(a2)\n",
        "alpha = 0.05\n",
        "x1_mean = np.mean(a1) #среднее арифметическое по выборке 1\n",
        "x2_mean = np.mean(a2) #среднее арифметическое по выборке 2\n",
        "delta = x1_mean - x2_mean #разность средних\n",
        "print(f'Среднее по выборке 1: {x1_mean}; Среднее по выборке 2: {x2_mean}; Разность средних: {delta}')\n",
        "D1 = np.var(a1, ddof = 1) #несмещенная дисперсия для выборки 1\n",
        "D2 = np.var(a2, ddof = 1) #несмещенная дисперсия для выборки 2\n",
        "D = (D1 + D2) / 2  #обьединенная оценка дисперсии\n",
        "SE = np.sqrt((D/n1) + (D/n2)) #стандартная ошибка разности средних\n",
        "t = stats.t.ppf(1- alpha / 2, df = 2*(n1 - 1))\n",
        "print(f'Критерий Стьюдента: {t}')\n",
        "print(f'Дисперсия по выборке 1: {D1}; Дисперсия по выборке 2: {D2}; Стандартная ошибка разности средних: {SE}')\n",
        "x1 = delta - t * SE\n",
        "x2 = delta + t * SE\n",
        "print(f'Нижняя граница интервала: {x1}; Верхняя граница интервала: {x2}')"
      ],
      "metadata": {
        "colab": {
          "base_uri": "https://localhost:8080/"
        },
        "id": "JmIyOyCmiov8",
        "outputId": "7e549ead-bab1-42c1-89d1-f6b82e75fd68"
      },
      "execution_count": 32,
      "outputs": [
        {
          "output_type": "stream",
          "name": "stdout",
          "text": [
            "Среднее по выборке 1: 166.2; Среднее по выборке 2: 168.1; Разность средних: -1.9000000000000057\n",
            "Критерий Стьюдента: 2.10092204024096\n",
            "Дисперсия по выборке 1: 91.06666666666666; Дисперсия по выборке 2: 60.10000000000001; Стандартная ошибка разности средних: 3.8880157750022915\n",
            "Нижняя граница интервала: -10.068418034506857; Верхняя граница интервала: 6.268418034506846\n"
          ]
        }
      ]
    }
  ]
}