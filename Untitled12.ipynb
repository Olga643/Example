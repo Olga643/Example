{
  "nbformat": 4,
  "nbformat_minor": 0,
  "metadata": {
    "colab": {
      "provenance": [],
      "authorship_tag": "ABX9TyPTkfpsQ3CmnIu4CQywz3Xs",
      "include_colab_link": true
    },
    "kernelspec": {
      "name": "python3",
      "display_name": "Python 3"
    },
    "language_info": {
      "name": "python"
    }
  },
  "cells": [
    {
      "cell_type": "markdown",
      "metadata": {
        "id": "view-in-github",
        "colab_type": "text"
      },
      "source": [
        "<a href=\"https://colab.research.google.com/github/Olga643/Example/blob/main/Untitled12.ipynb\" target=\"_parent\"><img src=\"https://colab.research.google.com/assets/colab-badge.svg\" alt=\"Open In Colab\"/></a>"
      ]
    },
    {
      "cell_type": "markdown",
      "source": [
        "## Задание 1.\n",
        "\n",
        "### 1.1 Соедините два словаря в один"
      ],
      "metadata": {
        "id": "tFkUIUFkta8Q"
      }
    },
    {
      "cell_type": "code",
      "execution_count": 1,
      "metadata": {
        "colab": {
          "base_uri": "https://localhost:8080/"
        },
        "id": "AAyx8muftXp6",
        "outputId": "36287d36-fd21-42b4-83cd-34cc0f212cb4"
      },
      "outputs": [
        {
          "output_type": "stream",
          "name": "stdout",
          "text": [
            "{'One': 1, 'Two': 2, 'Three': 3, 'Four': 4, 'Five': 5, 'Six': 6}\n"
          ]
        }
      ],
      "source": [
        "dict1 = {'One': 1, 'Two': 2, 'Three': 3}\n",
        "dict2 = {'Four': 4, 'Five': 5, 'Six': 6}\n",
        "dict3 = dict1 | dict2\n",
        "print(dict3)"
      ]
    },
    {
      "cell_type": "code",
      "source": [
        "dict4 = {**dict1, **dict2}\n",
        "print(dict4)"
      ],
      "metadata": {
        "colab": {
          "base_uri": "https://localhost:8080/"
        },
        "id": "hJMqwVHqtmjg",
        "outputId": "e64d0285-0a8c-468b-f886-bd0665d28fed"
      },
      "execution_count": 2,
      "outputs": [
        {
          "output_type": "stream",
          "name": "stdout",
          "text": [
            "{'One': 1, 'Two': 2, 'Three': 3, 'Four': 4, 'Five': 5, 'Six': 6}\n"
          ]
        }
      ]
    },
    {
      "cell_type": "code",
      "source": [
        "dict1.update(dict2)\n",
        "dict1"
      ],
      "metadata": {
        "colab": {
          "base_uri": "https://localhost:8080/"
        },
        "id": "ErkEbxeJttJA",
        "outputId": "791bf491-380e-49cb-a7c4-cc98b0b9cbe9"
      },
      "execution_count": 3,
      "outputs": [
        {
          "output_type": "execute_result",
          "data": {
            "text/plain": [
              "{'One': 1, 'Two': 2, 'Three': 3, 'Four': 4, 'Five': 5, 'Six': 6}"
            ]
          },
          "metadata": {},
          "execution_count": 3
        }
      ]
    },
    {
      "cell_type": "markdown",
      "source": [
        "### 1.2 Напишите функцию, которая на вход принимает два словаря и возвращает один объединенный словарь\n",
        "Используйте аннотирование типов"
      ],
      "metadata": {
        "id": "FLK7hAKptv_4"
      }
    },
    {
      "cell_type": "code",
      "source": [
        "dict1 = {'One': 1, 'Two': 2, 'Three': 3}\n",
        "dict2 = {'Four': 4, 'Five': 5, 'Six': 6}"
      ],
      "metadata": {
        "id": "3tY2-MiFtzw4"
      },
      "execution_count": 4,
      "outputs": []
    },
    {
      "cell_type": "code",
      "source": [
        "def dict_union(d1: dict, d2: dict) -> dict:\n",
        "    for key, value in d2.items():\n",
        "        d1[key] = value\n",
        "    return d1\n",
        "\n",
        "print(dict_union(dict1, dict2))"
      ],
      "metadata": {
        "colab": {
          "base_uri": "https://localhost:8080/"
        },
        "id": "Elrgz9Cat4GY",
        "outputId": "59d88207-3c2c-4f23-fa7d-29861017358b"
      },
      "execution_count": 5,
      "outputs": [
        {
          "output_type": "stream",
          "name": "stdout",
          "text": [
            "{'One': 1, 'Two': 2, 'Three': 3, 'Four': 4, 'Five': 5, 'Six': 6}\n"
          ]
        }
      ]
    },
    {
      "cell_type": "markdown",
      "source": [
        "## Задание 2.\n",
        "Напишите функцию, которая из двух списков, делает один словарь, где элементы из первого списка - ключи, а элементы из второго списка - значения\n",
        "keys = ['One', 'Two', 'Three']\n",
        "values = [1, 2, 3]\n",
        "Используйте аннотирование типов\n",
        "\n",
        "#### 2.1 Используя цикл for"
      ],
      "metadata": {
        "id": "OR_UaCO2t_24"
      }
    },
    {
      "cell_type": "code",
      "source": [
        "keys = ['One', 'Two', 'Three']\n",
        "values = [1, 2, 3]"
      ],
      "metadata": {
        "id": "LKNpXpW2uBbi"
      },
      "execution_count": 6,
      "outputs": []
    },
    {
      "cell_type": "code",
      "source": [
        "def create_dict(k:list[str], v:list[int]) ->dict:\n",
        "    dict_result = {}\n",
        "    for i in range(len(k)):\n",
        "        dict_result[k[i]] = v[i]\n",
        "    return dict_result\n",
        "\n",
        "create_dict(keys,values)"
      ],
      "metadata": {
        "colab": {
          "base_uri": "https://localhost:8080/"
        },
        "id": "oD_c9hKduEqH",
        "outputId": "9aafbd92-f350-4d4a-9d62-859b66c514f1"
      },
      "execution_count": 7,
      "outputs": [
        {
          "output_type": "execute_result",
          "data": {
            "text/plain": [
              "{'One': 1, 'Two': 2, 'Three': 3}"
            ]
          },
          "metadata": {},
          "execution_count": 7
        }
      ]
    },
    {
      "cell_type": "markdown",
      "source": [
        "#### 2.2 Используя dict comprehensions"
      ],
      "metadata": {
        "id": "1w26bQ9muKyo"
      }
    },
    {
      "cell_type": "code",
      "source": [
        "my_dict = {keys[i]: values[i] for i in range(len(keys))}\n",
        "my_dict"
      ],
      "metadata": {
        "colab": {
          "base_uri": "https://localhost:8080/"
        },
        "id": "uXR4KaqwuL44",
        "outputId": "903544ec-a62e-4e44-9bf8-d478e95f6b60"
      },
      "execution_count": 8,
      "outputs": [
        {
          "output_type": "execute_result",
          "data": {
            "text/plain": [
              "{'One': 1, 'Two': 2, 'Three': 3}"
            ]
          },
          "metadata": {},
          "execution_count": 8
        }
      ]
    },
    {
      "cell_type": "markdown",
      "source": [
        "## Задание 3.\n",
        "Извлеките только два ключа name и age из представленного\n",
        "словаря\n",
        "### 3.1 Напишите функцию с циклом for\n",
        "Функция на вход принимает:\n",
        "исходный словарь\n",
        "ключи, которые нужно извлечь (аргумент по\n",
        "умолчанию)\n",
        "На выходе словарь с нужными ключами\n",
        "Используйте аннотирование типов"
      ],
      "metadata": {
        "id": "FBla68I-uPMY"
      }
    },
    {
      "cell_type": "code",
      "source": [
        "client_dict = {\n",
        "    \"name\": \"John\",\n",
        "    \"age\": 25,\n",
        "    \"salary\": 5000,\n",
        "    \"city\": \"Moscow\"\n",
        "}"
      ],
      "metadata": {
        "id": "I_ItJEeEuSI4"
      },
      "execution_count": 9,
      "outputs": []
    },
    {
      "cell_type": "code",
      "source": [
        "def new_dict(dict_input: dict, keys: list = [\"name\", \"age\"]) -> dict:\n",
        "  dict_res = {}\n",
        "  for k in keys:\n",
        "    dict_res[k] = dict_input[k]\n",
        "  return dict_res\n",
        "new_dict(client_dict)"
      ],
      "metadata": {
        "colab": {
          "base_uri": "https://localhost:8080/"
        },
        "id": "8Q4y8u2Svp94",
        "outputId": "8a8c2461-fde8-4f40-d9d4-2e173f5e419a"
      },
      "execution_count": 11,
      "outputs": [
        {
          "output_type": "execute_result",
          "data": {
            "text/plain": [
              "{'name': 'John', 'age': 25}"
            ]
          },
          "metadata": {},
          "execution_count": 11
        }
      ]
    },
    {
      "cell_type": "markdown",
      "source": [
        "### 3.2 Используя dict comprehensions"
      ],
      "metadata": {
        "id": "kmbIuk1M1979"
      }
    },
    {
      "cell_type": "code",
      "source": [
        "my_dict = {k: client_dict[k] for k in [\"name\", \"age\"]}\n",
        "my_dict"
      ],
      "metadata": {
        "colab": {
          "base_uri": "https://localhost:8080/"
        },
        "id": "_nFb_l8l2BU9",
        "outputId": "4096e950-0981-4b9b-f449-b2a2aeab593d"
      },
      "execution_count": 13,
      "outputs": [
        {
          "output_type": "execute_result",
          "data": {
            "text/plain": [
              "{'name': 'John', 'age': 25}"
            ]
          },
          "metadata": {},
          "execution_count": 13
        }
      ]
    },
    {
      "cell_type": "markdown",
      "source": [
        "## Задание 4.\n",
        "### 4.1 Сгенерируйте случайные целые числа от 0 до 100 в количестве 5 штук с помощью модуля random\n",
        "● Зафиксируйте псевдогенерацию, чтобы\n",
        "сгенерированные значения всегда были одинаковые\n",
        "\n",
        "● Используйте list comprehensions"
      ],
      "metadata": {
        "id": "Dvq2luLJ3wwE"
      }
    },
    {
      "cell_type": "code",
      "source": [
        "import random\n"
      ],
      "metadata": {
        "id": "lrmbN6Ib3-5M"
      },
      "execution_count": 14,
      "outputs": []
    },
    {
      "cell_type": "code",
      "source": [
        "random.seed(10)\n",
        "data = [random.randint(0, 100) for i in range(5)]\n",
        "data"
      ],
      "metadata": {
        "colab": {
          "base_uri": "https://localhost:8080/"
        },
        "id": "0KjxwO7THi4H",
        "outputId": "50667acb-b1c9-457e-a28e-b43a0a4da372"
      },
      "execution_count": 31,
      "outputs": [
        {
          "output_type": "execute_result",
          "data": {
            "text/plain": [
              "[73, 4, 54, 61, 73]"
            ]
          },
          "metadata": {},
          "execution_count": 31
        }
      ]
    },
    {
      "cell_type": "markdown",
      "source": [
        "### 4.2 Напишите генератор\n",
        "Генератор на вход принимает список с данными о клиенте (данные\n",
        "из пункта 4.1)\n",
        "Внутри генератора реализуйте обход по списку с данными\n",
        "На каждой итерации генератор будет возвращать кортеж из двух\n",
        "элементов:\n",
        "1. данные по клиенту (в зависимости от итерации, на 0 итерации\n",
        "вернется 0 элемент, на 1 итерации вернется 1 элемент и тд)\n",
        "2. целочисленное значение, которое показывает, сколько секунд\n",
        "прошло с предыдущей итерации\n",
        "Примечание: секунды, которые возвращаются должны показывать время не\n",
        "с начала запуска генератора, а именно то время, которое прошло с\n",
        "предыдущей итерации. А значит время на первой итерации должно\n",
        "равняться 0.\n",
        "Используйте функцию time из модуля time для подсчета времени.\n",
        "Чтобы проверить работу таймера, запустите проход по\n",
        "генератору в цикле с time.sleep(2)\n"
      ],
      "metadata": {
        "id": "CvgO8s_FIJCp"
      }
    },
    {
      "cell_type": "code",
      "source": [
        "import time"
      ],
      "metadata": {
        "id": "lGdwjdI7IZYh"
      },
      "execution_count": 21,
      "outputs": []
    },
    {
      "cell_type": "code",
      "source": [
        "def func(nums: list) -> tuple:\n",
        "  last_time = time.time()\n",
        "  for num in nums:\n",
        "    cur_time = time.time()\n",
        "    diff = cur_time - last_time\n",
        "    yield num, int(diff)\n",
        "    last_time = cur_time"
      ],
      "metadata": {
        "id": "75UkYBySI0Mu"
      },
      "execution_count": 38,
      "outputs": []
    },
    {
      "cell_type": "code",
      "source": [
        "for item in func(data):\n",
        "  print(item)\n",
        "  time.sleep(2)"
      ],
      "metadata": {
        "colab": {
          "base_uri": "https://localhost:8080/"
        },
        "id": "Jop2FMqhKBQR",
        "outputId": "bf2d6903-ed6b-4509-bbdd-9323c16045cf"
      },
      "execution_count": 39,
      "outputs": [
        {
          "output_type": "stream",
          "name": "stdout",
          "text": [
            "(73, 0)\n",
            "(4, 2)\n",
            "(54, 2)\n",
            "(61, 2)\n",
            "(73, 2)\n"
          ]
        }
      ]
    },
    {
      "cell_type": "markdown",
      "source": [
        "## Задание 5.\n",
        "### 5.1 Найдите картинку в интернете и прикрепите её в ячейку с текстом\n"
      ],
      "metadata": {
        "id": "UDpZUgrFMG-I"
      }
    },
    {
      "cell_type": "markdown",
      "source": [
        "<img src= 'https://img.freepik.com/free-photo/close-up-red-tropical-flowers-with-blurred-background_23-2148245251.jpg?t=st=1689620617~exp=1689621217~hmac=c95fbe6e67ce2f2c9c63f968b0d28b2be25b543d22962a1ab2b59a8c66c82cda width = 200'>\n"
      ],
      "metadata": {
        "id": "Dsd04G80NVzv"
      }
    },
    {
      "cell_type": "markdown",
      "source": [
        "<img src = https://c.wallhere.com/photos/53/43/nature_stone_island_colourful_stone_cellphone_beach_vertical_water_Sun-2199629.jpg!d width = 300>"
      ],
      "metadata": {
        "id": "yxQxAyIPPWRn"
      }
    },
    {
      "cell_type": "code",
      "source": [],
      "metadata": {
        "id": "1WVHSEJfMWXx"
      },
      "execution_count": null,
      "outputs": []
    },
    {
      "cell_type": "markdown",
      "source": [
        "<table>\n",
        "   <tr>\n",
        "       <td></td>\n",
        "       <td>До события</td>\n",
        "       <td> Во время</td>\n",
        "   </tr>\n",
        "      <tr>\n",
        "       <td>Первая точка</td>\n",
        "       <td>250</td>\n",
        "       <td> 500</td>\n",
        "   </tr>\n",
        "      <tr>\n",
        "       <td>Вторая точка</td>\n",
        "       <td>350</td>\n",
        "       <td>700</td>\n",
        "   </tr>\n",
        "      <tr>\n",
        "       <td>Третья точка</td>\n",
        "       <td>400</td>\n",
        "       <td>800</td>\n",
        "   </tr>\n",
        "      <tr>\n",
        "       <td>Итого за победу</td>\n",
        "       <td>1000</td>\n",
        "       <td>2000</td>\n",
        "   </tr>\n",
        "</table>"
      ],
      "metadata": {
        "id": "wF8xtVrAQZTf"
      }
    },
    {
      "cell_type": "markdown",
      "source": [
        "## Задание 6.\n",
        "Напишите функцию, которая может принимать любое\n",
        "количество трат пользователя и считать сумму и среднее.\n",
        "На вход поступают целочисленные значения в любом\n",
        "количестве\n",
        "На выходе словарь с ключами суммы трат и средней\n",
        "траты\n"
      ],
      "metadata": {
        "id": "hAh9DnSDSS_v"
      }
    },
    {
      "cell_type": "code",
      "source": [
        "def calc(*args):\n",
        "  summa = sum(args)\n",
        "  avg = summa / len(args)\n",
        "  return {\"Сумма\": summa, \"Среднее\": avg}\n",
        "\n",
        ""
      ],
      "metadata": {
        "id": "5FxrFg0pTGim"
      },
      "execution_count": 44,
      "outputs": []
    },
    {
      "cell_type": "code",
      "source": [
        "calc(25, 30, 45, 60)"
      ],
      "metadata": {
        "colab": {
          "base_uri": "https://localhost:8080/"
        },
        "id": "EWqcrMYBUH3P",
        "outputId": "39598d79-0ffa-4c6e-f410-3bbf66754b80"
      },
      "execution_count": 45,
      "outputs": [
        {
          "output_type": "execute_result",
          "data": {
            "text/plain": [
              "{'Сумма': 160, 'Среднее': 40.0}"
            ]
          },
          "metadata": {},
          "execution_count": 45
        }
      ]
    }
  ]
}