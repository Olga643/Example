{
  "cells": [
    {
      "cell_type": "markdown",
      "metadata": {
        "id": "view-in-github",
        "colab_type": "text"
      },
      "source": [
        "<a href=\"https://colab.research.google.com/github/Olga643/Example/blob/main/Untitled2.ipynb\" target=\"_parent\"><img src=\"https://colab.research.google.com/assets/colab-badge.svg\" alt=\"Open In Colab\"/></a>"
      ]
    },
    {
      "cell_type": "markdown",
      "source": [
        "2) Проведите тест гипотезы. Продавец утверждает, что средний вес пачки печенья\n",
        "составляет 200 г.\n",
        "Из партии извлечена выборка из 10 пачек. Вес каждой пачки составляет:\n",
        "202, 203, 199, 197, 195, 201, 200, 204, 194, 190.\n",
        "Известно, что их веса распределены нормально.\n",
        "Верно ли утверждение продавца, если учитывать, что доверительная вероятность равна\n",
        "99%? (Провести двусторонний тест.)"
      ],
      "metadata": {
        "id": "OJknPC8XYqjt"
      }
    },
    {
      "cell_type": "code",
      "execution_count": 11,
      "metadata": {
        "id": "KjUsRsRjdIfP"
      },
      "outputs": [],
      "source": [
        "from scipy import stats\n"
      ]
    },
    {
      "cell_type": "code",
      "source": [
        "import numpy as np\n",
        "x = np.array([202, 203, 199, 197, 195, 201, 200, 204, 194, 190])\n",
        "x_m = 200\n",
        "x_mean = np.mean(x)\n",
        "x_v = np.std(x, ddof = 1)\n",
        "x_l = len(x)\n",
        "print(x_mean, x_v, x_l)"
      ],
      "metadata": {
        "colab": {
          "base_uri": "https://localhost:8080/"
        },
        "id": "uzHpY3CDKn0j",
        "outputId": "7c53ab68-77b9-4a34-9c83-7e2e62cf8ecf"
      },
      "execution_count": 8,
      "outputs": [
        {
          "output_type": "stream",
          "name": "stdout",
          "text": [
            "198.5 4.453463071962462 10\n"
          ]
        }
      ]
    },
    {
      "cell_type": "code",
      "source": [
        "t_n=(x_mean - x_m) / (x_v / np.sqrt(x_l))\n",
        "alpha = 0.01\n",
        "n = x_l\n",
        "t1 = stats.t.ppf(alpha / 2, df = n - 1)\n",
        "t2 = stats.t.ppf(1 - alpha / 2, df = n - 1)\n",
        "print(t_n, t1, t2)"
      ],
      "metadata": {
        "colab": {
          "base_uri": "https://localhost:8080/"
        },
        "id": "dAsVViOrzX1W",
        "outputId": "222fa20c-f644-427a-ce26-5cc53d3e32d6"
      },
      "execution_count": 15,
      "outputs": [
        {
          "output_type": "stream",
          "name": "stdout",
          "text": [
            "-1.0651074037450896 -3.24983554401537 3.2498355440153697\n"
          ]
        }
      ]
    },
    {
      "cell_type": "code",
      "source": [
        "stats.ttest_1samp(x, 200)"
      ],
      "metadata": {
        "colab": {
          "base_uri": "https://localhost:8080/"
        },
        "id": "tt_GOk1NIGT7",
        "outputId": "270663e7-9e5a-4760-dff4-702aa0587f9e"
      },
      "execution_count": 14,
      "outputs": [
        {
          "output_type": "execute_result",
          "data": {
            "text/plain": [
              "TtestResult(statistic=-1.0651074037450894, pvalue=0.31456660352472854, df=9)"
            ]
          },
          "metadata": {},
          "execution_count": 14
        }
      ]
    }
  ],
  "metadata": {
    "colab": {
      "provenance": [],
      "authorship_tag": "ABX9TyNvZYFH/5/O5yFP95nN0W1P",
      "include_colab_link": true
    },
    "kernelspec": {
      "display_name": "Python 3",
      "name": "python3"
    },
    "language_info": {
      "name": "python"
    }
  },
  "nbformat": 4,
  "nbformat_minor": 0
}