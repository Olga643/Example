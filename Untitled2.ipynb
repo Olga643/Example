{
  "cells": [
    {
      "cell_type": "markdown",
      "metadata": {
        "id": "view-in-github",
        "colab_type": "text"
      },
      "source": [
        "<a href=\"https://colab.research.google.com/github/Olga643/Example/blob/main/Untitled2.ipynb\" target=\"_parent\"><img src=\"https://colab.research.google.com/assets/colab-badge.svg\" alt=\"Open In Colab\"/></a>"
      ]
    },
    {
      "cell_type": "code",
      "execution_count": 2,
      "metadata": {
        "id": "KjUsRsRjdIfP"
      },
      "outputs": [],
      "source": [
        "from scipy import stats\n",
        "import numpy as np"
      ]
    },
    {
      "cell_type": "markdown",
      "source": [
        "Задача 2. Проведите тест гипотезы. Утверждается, что шарики для подшипников, изготовленные автоматическим станком, имеют средний диаметр 17 мм.\n",
        "Используя односторонний критерий с α=0,05, проверить эту гипотезу, если в выборке из n=100 шариков средний диаметр оказался равным 17.5 мм, а дисперсия известна и равна 4 кв. мм.\n",
        "\n",
        "H0: µ = µ0\n",
        "\n",
        "H0: µ > µ0\n",
        "\n",
        "α = 0,05\n",
        "\n",
        "σ = √4\n",
        "\n",
        "n = 100\n",
        "\n",
        "Используем Z-критерий, так как известна σ генеральной совокупности"
      ],
      "metadata": {
        "id": "MNL9-_GpSeJR"
      }
    },
    {
      "cell_type": "code",
      "source": [
        "alpha = 0.05\n",
        "sigma = 2\n",
        "x_m = 17\n",
        "x_mean = 17.5\n",
        "n = 100\n",
        "z_n = (x_mean - x_m) / (sigma / np.sqrt(n))\n",
        "z1 =stats.norm.ppf(1 - alpha)\n",
        "print(z_n, z1)"
      ],
      "metadata": {
        "colab": {
          "base_uri": "https://localhost:8080/"
        },
        "id": "AyeXHX4SSndQ",
        "outputId": "0e18c342-3e52-4d65-dc69-cfab64e0866a"
      },
      "execution_count": 10,
      "outputs": [
        {
          "output_type": "stream",
          "name": "stdout",
          "text": [
            "2.5 1.6448536269514722\n"
          ]
        }
      ]
    },
    {
      "cell_type": "markdown",
      "source": [
        "Вывод: Нулевая гипотеза отвергается, так как  Zн > Zкр. Средний диаметр шариков будет больше 17 мм"
      ],
      "metadata": {
        "id": "sk7oAd4HXB_f"
      }
    },
    {
      "cell_type": "markdown",
      "source": [
        "Задача 3. Проведите тест гипотезы. Продавец утверждает, что средний вес пачки печенья\n",
        "составляет 200 г.\n",
        "Из партии извлечена выборка из 10 пачек. Вес каждой пачки составляет:\n",
        "202, 203, 199, 197, 195, 201, 200, 204, 194, 190.\n",
        "Известно, что их веса распределены нормально.\n",
        "Верно ли утверждение продавца, если учитывать, что доверительная вероятность равна\n",
        "99%? (Провести двусторонний тест.)"
      ],
      "metadata": {
        "id": "OJknPC8XYqjt"
      }
    },
    {
      "cell_type": "markdown",
      "source": [
        "Находим среднее по выборке и среднее квадратичное отклонение по выборке"
      ],
      "metadata": {
        "id": "S6E2zWqHcGXY"
      }
    },
    {
      "cell_type": "code",
      "source": [
        "x = np.array([202, 203, 199, 197, 195, 201, 200, 204, 194, 190])\n",
        "x_m = 200\n",
        "x_mean = np.mean(x)\n",
        "x_v = np.std(x, ddof = 1)\n",
        "x_l = len(x)\n",
        "print(x_mean, x_v, x_l)"
      ],
      "metadata": {
        "colab": {
          "base_uri": "https://localhost:8080/"
        },
        "id": "uzHpY3CDKn0j",
        "outputId": "32f3b534-c86f-4262-bce1-8755e7c3c99e"
      },
      "execution_count": 4,
      "outputs": [
        {
          "output_type": "stream",
          "name": "stdout",
          "text": [
            "198.5 4.453463071962462 10\n"
          ]
        }
      ]
    },
    {
      "cell_type": "markdown",
      "source": [
        "Так как сигма генеральной совокупности неизвестна, выбираем t-критерий, и сравниваем его с табличным"
      ],
      "metadata": {
        "id": "KGFyo8z3cUjx"
      }
    },
    {
      "cell_type": "code",
      "source": [
        "t_n=(x_mean - x_m) / (x_v / np.sqrt(x_l))\n",
        "alpha = 0.01\n",
        "n = x_l\n",
        "t1 = stats.t.ppf(alpha / 2, df = n - 1)\n",
        "t2 = stats.t.ppf(1 - alpha / 2, df = n - 1)\n",
        "print(t_n, t1, t2)"
      ],
      "metadata": {
        "colab": {
          "base_uri": "https://localhost:8080/"
        },
        "id": "dAsVViOrzX1W",
        "outputId": "222fa20c-f644-427a-ce26-5cc53d3e32d6"
      },
      "execution_count": null,
      "outputs": [
        {
          "output_type": "stream",
          "name": "stdout",
          "text": [
            "-1.0651074037450896 -3.24983554401537 3.2498355440153697\n"
          ]
        }
      ]
    },
    {
      "cell_type": "markdown",
      "source": [
        "Вывод: Нулевая гипотеза не отвергается, так как tн < tкр"
      ],
      "metadata": {
        "id": "0oyAHthSXV1h"
      }
    },
    {
      "cell_type": "code",
      "source": [
        "stats.ttest_1samp(x, 200)"
      ],
      "metadata": {
        "colab": {
          "base_uri": "https://localhost:8080/"
        },
        "id": "tt_GOk1NIGT7",
        "outputId": "270663e7-9e5a-4760-dff4-702aa0587f9e"
      },
      "execution_count": null,
      "outputs": [
        {
          "output_type": "execute_result",
          "data": {
            "text/plain": [
              "TtestResult(statistic=-1.0651074037450894, pvalue=0.31456660352472854, df=9)"
            ]
          },
          "metadata": {},
          "execution_count": 14
        }
      ]
    },
    {
      "cell_type": "markdown",
      "source": [
        "Задача 4. Есть ли статистически значимые различия в росте\n",
        "дочерей?\n",
        "\n",
        "Рост матерей 172, 177, 158, 170, 178,175, 164, 160, 169, 165\n",
        "\n",
        "Рост взрослых дочерей: 173, 175, 162, 174, 175, 168, 155, 170, 160, 163"
      ],
      "metadata": {
        "id": "kVkTm9CEldBr"
      }
    },
    {
      "cell_type": "code",
      "source": [
        "x = np.array([172, 177, 158, 170, 178, 175, 164, 160, 169, 165])\n",
        "y = np.array([173, 175, 162, 174, 175, 168, 155, 170, 160, 163])\n",
        "stats.ttest_rel(x, y)"
      ],
      "metadata": {
        "id": "93krDKjUlhUD",
        "colab": {
          "base_uri": "https://localhost:8080/"
        },
        "outputId": "9995e8da-4035-4525-80f2-c2a18c45fc55"
      },
      "execution_count": 6,
      "outputs": [
        {
          "output_type": "execute_result",
          "data": {
            "text/plain": [
              "TtestResult(statistic=0.6648478531431979, pvalue=0.5228168632983574, df=9)"
            ]
          },
          "metadata": {},
          "execution_count": 6
        }
      ]
    },
    {
      "cell_type": "markdown",
      "source": [
        "Так как pvalue получилось достаточно большим, и превысит любое, наиболее часто применяемое значение альфы, нулевая гипотеза о том, что нет статистически значимых различий в росте матерей и дочерей, не отвергается"
      ],
      "metadata": {
        "id": "pUTAfwuaQJDz"
      }
    }
  ],
  "metadata": {
    "colab": {
      "provenance": [],
      "authorship_tag": "ABX9TyMizPdY8MFC31lIdQT4e9o/",
      "include_colab_link": true
    },
    "kernelspec": {
      "display_name": "Python 3",
      "name": "python3"
    },
    "language_info": {
      "name": "python"
    }
  },
  "nbformat": 4,
  "nbformat_minor": 0
}