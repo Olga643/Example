{
  "nbformat": 4,
  "nbformat_minor": 0,
  "metadata": {
    "colab": {
      "provenance": [],
      "authorship_tag": "ABX9TyOUqRQMUtgwzBvPPy2gU6+J",
      "include_colab_link": true
    },
    "kernelspec": {
      "name": "python3",
      "display_name": "Python 3"
    },
    "language_info": {
      "name": "python"
    }
  },
  "cells": [
    {
      "cell_type": "markdown",
      "metadata": {
        "id": "view-in-github",
        "colab_type": "text"
      },
      "source": [
        "<a href=\"https://colab.research.google.com/github/Olga643/Example/blob/main/Untitled6.ipynb\" target=\"_parent\"><img src=\"https://colab.research.google.com/assets/colab-badge.svg\" alt=\"Open In Colab\"/></a>"
      ]
    },
    {
      "cell_type": "markdown",
      "source": [
        "Даны значения величины заработной платы заемщиков банка (zp) и значения их поведенческого кредитного скоринга (ks):\n",
        "\n",
        "zp = [35, 45, 190, 200, 40, 70, 54, 150, 120, 110],\n",
        "\n",
        "ks = [401, 574, 874, 919, 459, 739, 653, 902, 746, 832].\n",
        "\n",
        "Найдите ковариацию этих двух величин с помощью элементарных действий, а затем с помощью функции cov из numpy\n",
        "\n",
        "Полученные значения должны быть равны.\n",
        "\n",
        "Найдите коэффициент корреляции Пирсона с помощью ковариации и среднеквадратичных отклонений двух признаков, а затем с использованием функций из библиотек numpy и pandas."
      ],
      "metadata": {
        "id": "1tV2H8p899Q5"
      }
    },
    {
      "cell_type": "code",
      "execution_count": 17,
      "metadata": {
        "id": "EYJXGQL398hi"
      },
      "outputs": [],
      "source": [
        "from scipy import stats\n",
        "import numpy as np\n",
        "import matplotlib.pyplot as plt\n",
        "import pandas as pd"
      ]
    },
    {
      "cell_type": "code",
      "source": [
        "zp = np.array([35, 45, 190, 200, 40, 70, 54, 150, 120, 110])\n",
        "ks = np.array([401, 574, 874, 919, 459, 739, 653, 902, 746, 832])\n",
        "cov = np.mean(zp*ks) - np.mean(zp)* np.mean(ks)\n",
        "cov1 = np.cov(zp,ks, ddof = 0)\n",
        "print(cov, cov1)"
      ],
      "metadata": {
        "colab": {
          "base_uri": "https://localhost:8080/"
        },
        "id": "IJvxAvpT_sdP",
        "outputId": "8d49f4d8-20b7-49dd-cc08-fca7fc6bce4d"
      },
      "execution_count": 9,
      "outputs": [
        {
          "output_type": "stream",
          "name": "stdout",
          "text": [
            "9157.839999999997 [[ 3494.64  9157.84]\n",
            " [ 9157.84 30468.89]]\n"
          ]
        }
      ]
    },
    {
      "cell_type": "code",
      "source": [
        "std_zp = np.std(zp, ddof = 0)\n",
        "std_ks = np.std(ks, ddof = 0)\n",
        "cor1 = cov / (std_zp * std_ks)\n",
        "cor = np.corrcoef(zp, ks)\n",
        "print(cor[0,1])\n",
        "print(cor1)\n",
        "df = pd.DataFrame({'zp': [35, 45, 190, 200, 40, 70, 54, 150, 120, 110] , 'ks': [401, 574, 874, 919, 459, 739, 653, 902, 746, 832]})\n",
        "cor2 = df['zp']. corr(df['ks'])\n",
        "print(cor2)"
      ],
      "metadata": {
        "colab": {
          "base_uri": "https://localhost:8080/"
        },
        "id": "K-upYUvQJNq6",
        "outputId": "b588db17-5880-4416-8bea-a39ce42e10b1"
      },
      "execution_count": 25,
      "outputs": [
        {
          "output_type": "stream",
          "name": "stdout",
          "text": [
            "0.8874900920739162\n",
            "0.8874900920739158\n",
            "0.8874900920739162\n"
          ]
        }
      ]
    },
    {
      "cell_type": "markdown",
      "source": [
        "Коэффициент корреляции показывает на достаточно сильную прямую линейную зависимость"
      ],
      "metadata": {
        "id": "7OyHo1_uDrkS"
      }
    },
    {
      "cell_type": "markdown",
      "source": [],
      "metadata": {
        "id": "Sscc0-bsnHjj"
      }
    },
    {
      "cell_type": "code",
      "source": [
        "plt.scatter(zp, ks)\n",
        "plt.title('')\n",
        "plt.xlabel('zp')\n",
        "plt.ylabel('ks')\n",
        "plt.show()"
      ],
      "metadata": {
        "colab": {
          "base_uri": "https://localhost:8080/",
          "height": 449
        },
        "id": "oam3OtLdmLy6",
        "outputId": "2477e2d9-581c-45a9-f321-10c61db28358"
      },
      "execution_count": 26,
      "outputs": [
        {
          "output_type": "display_data",
          "data": {
            "text/plain": [
              "<Figure size 640x480 with 1 Axes>"
            ],
            "image/png": "[encoded data removed]"
          },
          "metadata": {}
        }
      ]
    },
    {
      "cell_type": "markdown",
      "source": [
        "Измерены значения IQ выборки студентов,\n",
        "обучающихся в местных технических вузах:\n",
        "\n",
        "131, 125, 115, 122, 131, 115, 107, 99, 125, 111.\n",
        "\n",
        "Известно, что в генеральной совокупности IQ распределен нормально.\n",
        "\n",
        "Найдите доверительный интервал для математического ожидания с надежностью 0.95."
      ],
      "metadata": {
        "id": "_qMtjDWHnJNd"
      }
    },
    {
      "cell_type": "code",
      "source": [],
      "metadata": {
        "id": "mcT80U8YnQom"
      },
      "execution_count": null,
      "outputs": []
    }
  ]
}