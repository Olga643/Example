{
  "nbformat": 4,
  "nbformat_minor": 0,
  "metadata": {
    "colab": {
      "provenance": [],
      "authorship_tag": "ABX9TyPqX3pgZm60k8+OSRektOJB",
      "include_colab_link": true
    },
    "kernelspec": {
      "name": "python3",
      "display_name": "Python 3"
    },
    "language_info": {
      "name": "python"
    }
  },
  "cells": [
    {
      "cell_type": "markdown",
      "metadata": {
        "id": "view-in-github",
        "colab_type": "text"
      },
      "source": [
        "<a href=\"https://colab.research.google.com/github/Olga643/Example/blob/main/Untitled11.ipynb\" target=\"_parent\"><img src=\"https://colab.research.google.com/assets/colab-badge.svg\" alt=\"Open In Colab\"/></a>"
      ]
    },
    {
      "cell_type": "markdown",
      "source": [
        "## Условие 2:\n",
        "На складе лежат разные фрукты в разном количестве.\n",
        "Нужно написать функцию, которая на вход принимает любое количество названий фруктов и их количество, а возвращает общее количество фруктов на складе"
      ],
      "metadata": {
        "id": "lYKIv5x7SGTx"
      }
    },
    {
      "cell_type": "code",
      "execution_count": 16,
      "metadata": {
        "id": "9IzXimlm3kW9"
      },
      "outputs": [],
      "source": [
        "def fruit_basket(**kwargs):\n",
        "    {print(f\"Фрукт {name} в количестве {values} шт\")\n",
        "     for name, values in kwargs.items()}\n",
        "    return print(f'Общее количество фрутов: {sum(kwargs.values())}')"
      ]
    },
    {
      "cell_type": "code",
      "source": [
        "fruit_basket(\n",
        "    apple = 23,\n",
        "    orange = 15,\n",
        "    lemon = 5\n",
        ")"
      ],
      "metadata": {
        "colab": {
          "base_uri": "https://localhost:8080/"
        },
        "id": "Ux6VkX6MP40q",
        "outputId": "c738568b-d50d-463c-8371-913343e67953"
      },
      "execution_count": 17,
      "outputs": [
        {
          "output_type": "stream",
          "name": "stdout",
          "text": [
            "Фрукт apple в количестве 23 шт\n",
            "Фрукт orange в количестве 15 шт\n",
            "Фрукт lemon в количестве 5 шт\n",
            "Общее количество фрутов: 43\n"
          ]
        }
      ]
    },
    {
      "cell_type": "markdown",
      "source": [
        "## Условие 3:\n",
        "Дан список с затратами на рекламу. Но в данных есть ошибки, некоторые затраты имеют отрицательную величину. Удалите такие значения из списка и посчитайте суммарные затраты\n",
        "[100, 125, -90, 345, 655, -1, 0, 200]\n",
        "\n",
        "Используйте list comprehensions"
      ],
      "metadata": {
        "id": "OBANbK35TtLo"
      }
    },
    {
      "cell_type": "code",
      "source": [
        "advert_costs = [100, 125, -90, 345, 655, -1, 0, 200]\n",
        "new_costs = [i if i > 0 else 0 for i in advert_costs]\n",
        "amount = sum(new_costs)\n",
        "amount"
      ],
      "metadata": {
        "colab": {
          "base_uri": "https://localhost:8080/"
        },
        "id": "JElFzb4FT8ih",
        "outputId": "f500b986-2926-412f-dca0-cc51df062855"
      },
      "execution_count": 2,
      "outputs": [
        {
          "output_type": "execute_result",
          "data": {
            "text/plain": [
              "1425"
            ]
          },
          "metadata": {},
          "execution_count": 2
        }
      ]
    },
    {
      "cell_type": "markdown",
      "source": [
        "## Условие 4:\n",
        "Даны два списка.\n",
        "\n",
        "Дата покупки\n",
        "\n",
        "['2021-09-14', '2021-12-15', '2021-09-08', '2021-12-05', '2021-10-09', '2021-09-30', '2021-12-22', '2021-11-29', '2021-12-24', '2021-11-26', '2021-10-27', '2021-12-18', '2021-11-09', '2021-11-23', '2021-09-27', '2021-10-02', '2021-12-27', '2021-09-20', '2021-12-13', '2021-11-01', '2021-11-09', '2021-12-06', '2021-12-08', '2021-10-09', '2021-10-31', '2021-09-30', '2021-11-09', '2021-12-13', '2021-10-26', '2021-12-09']\n",
        "\n",
        "Суммы покупок по датам\n",
        "\n",
        "[1270, 8413, 9028, 3703, 5739, 4095, 295, 4944, 5723, 3701, 4471, 651, 7037, 4274, 6275, 4988, 6930, 2971, 6592, 2004, 2822, 519, 3406, 2732, 5015, 2008, 316, 6333, 5700, 2887]\n",
        "### 4.1 Найдите, какая выручка у компании в ноябре\n",
        "Используйте list comprehensions\n",
        "### 4.2 Найдите выручку компании в зависимости от месяца\n",
        "Для этого напишите функцию, которая на вход принимает список с датами и список с выручкой, а на выходе словарь, где ключи - это месяцы, а значения - это выручка.\n",
        "Используйте аннотирование типов."
      ],
      "metadata": {
        "id": "TDEvo-MMUB36"
      }
    }
  ]
}