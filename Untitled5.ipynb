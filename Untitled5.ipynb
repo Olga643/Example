{
  "nbformat": 4,
  "nbformat_minor": 0,
  "metadata": {
    "colab": {
      "provenance": [],
      "authorship_tag": "ABX9TyMV9p99X74FXXE2xH0WIbBC",
      "include_colab_link": true
    },
    "kernelspec": {
      "name": "python3",
      "display_name": "Python 3"
    },
    "language_info": {
      "name": "python"
    }
  },
  "cells": [
    {
      "cell_type": "markdown",
      "metadata": {
        "id": "view-in-github",
        "colab_type": "text"
      },
      "source": [
        "<a href=\"https://colab.research.google.com/github/Olga643/Example/blob/main/Untitled5.ipynb\" target=\"_parent\"><img src=\"https://colab.research.google.com/assets/colab-badge.svg\" alt=\"Open In Colab\"/></a>"
      ]
    },
    {
      "cell_type": "markdown",
      "source": [
        "Задача 1. Даны две независимые выборки. Не соблюдается условие нормальности\n",
        "\n",
        "x1 380,420, 290\n",
        "\n",
        "y1 140,360,200,900\n",
        "\n",
        "Сделайте вывод по результатам, полученным с помощью функции, имеются ли статистические различия между группами?"
      ],
      "metadata": {
        "id": "sYL5k0ENQ-5Y"
      }
    },
    {
      "cell_type": "code",
      "execution_count": 1,
      "metadata": {
        "id": "2bAZ6V0GQ-U9"
      },
      "outputs": [],
      "source": [
        "from scipy import stats\n",
        "import numpy as np"
      ]
    },
    {
      "cell_type": "markdown",
      "source": [
        "Сформулируем нулевую и альтернативную гипотезы:\n",
        "\n",
        "H0: μ1= μ2\n",
        "\n",
        "H1: μ1≠ μ2\n",
        "\n",
        "Мы будем использовать критерий Манна-Уитни,его следует использовать для сравнения двух независимых выборок, если не соблюдается условие нормальности, или, если выборки очень маленького объема и мы не можем проверить соблюдение данного условия, и в  то же время у нас нет уверенности, что выборки взяты именно из нормально распределенной генеральной совокупности."
      ],
      "metadata": {
        "id": "YkDNNhHFdpTw"
      }
    },
    {
      "cell_type": "code",
      "source": [
        "x1 = np.array([380,420, 290])\n",
        "y1 = np.array([140,360,200,900])\n",
        "print(stats.mannwhitneyu(x1, y1) )"
      ],
      "metadata": {
        "colab": {
          "base_uri": "https://localhost:8080/"
        },
        "id": "BYT026a3RSK_",
        "outputId": "04f5de6d-cfa3-4edf-c2fc-65a651e643a8"
      },
      "execution_count": 4,
      "outputs": [
        {
          "output_type": "stream",
          "name": "stdout",
          "text": [
            "MannwhitneyuResult(statistic=8.0, pvalue=0.6285714285714286)\n"
          ]
        }
      ]
    },
    {
      "cell_type": "markdown",
      "source": [
        "Так как pvalue получился больше альфы, значит статистических различий между группами нет"
      ],
      "metadata": {
        "id": "_rVaMp34fTe_"
      }
    },
    {
      "cell_type": "markdown",
      "source": [],
      "metadata": {
        "id": "MCbqg68rgDfv"
      }
    },
    {
      "cell_type": "markdown",
      "source": [
        "Задача 2. Исследовалось влияние препарата на уровень давления пациентов. Сначала\n",
        "измерялось давление до приема препарата, потом через 10 минут и через 30 минут. Есть\n",
        "ли статистически значимые различия между измерениями давления? В выборках не соблюдается условие нормальности.\n",
        "\n",
        "1е измерение до приема препарата: 150, 160, 165, 145, 155\n",
        "\n",
        "2е измерение через 10 минут: 140, 155, 150, 130, 135\n",
        "\n",
        "3е измерение через 30 минут: 130, 130, 120, 130, 125"
      ],
      "metadata": {
        "id": "o4kNHcBcfrbm"
      }
    },
    {
      "cell_type": "markdown",
      "source": [
        "Сформулируем нулевую и альтернативную гипотезы:\n",
        "\n",
        "H0: μ1= μ2\n",
        "\n",
        "H1: μ1≠ μ2\n",
        "\n",
        "В случае повторных измерений и несоблюдения условий нормальности и равенства дисперсий в исследуемых выборках, применяем критерий Фридмана."
      ],
      "metadata": {
        "id": "fMClTOAshbXI"
      }
    },
    {
      "cell_type": "code",
      "source": [
        "before = np.array([150, 160, 165, 145, 155])\n",
        "first = np.array([140, 155, 150, 130, 135])\n",
        "second = np.array([130, 130, 120, 130, 125])\n",
        "print(stats.friedmanchisquare(before, first, second))"
      ],
      "metadata": {
        "colab": {
          "base_uri": "https://localhost:8080/"
        },
        "id": "5NvP2FRggBQh",
        "outputId": "1f45397a-e74f-4204-839f-b2cc61d257dc"
      },
      "execution_count": 5,
      "outputs": [
        {
          "output_type": "stream",
          "name": "stdout",
          "text": [
            "FriedmanchisquareResult(statistic=9.578947368421062, pvalue=0.00831683351100441)\n"
          ]
        }
      ]
    },
    {
      "cell_type": "markdown",
      "source": [
        "Так как pvalue получился меньше альфы, значит статистические различия между измерениями давления есть, препарат влияет на уровень давления пациентов\n"
      ],
      "metadata": {
        "id": "NvifEqirh0jV"
      }
    },
    {
      "cell_type": "markdown",
      "source": [
        "Задача 3. Сравните 1 и 2 е измерения, предполагая, что 3го измерения через 30 минут не было. Есть\n",
        "ли статистически значимые различия между измерениями давления?"
      ],
      "metadata": {
        "id": "nm_x2XAniTBq"
      }
    },
    {
      "cell_type": "markdown",
      "source": [
        "Сформулируем нулевую и альтернативную гипотезы:\n",
        "\n",
        "H0: μ1= μ2\n",
        "\n",
        "H1: μ1≠ μ2\n",
        "\n",
        "Для двух  зависимых выборок используем критерий Уилкоксона"
      ],
      "metadata": {
        "id": "4DKeM3Rcw04c"
      }
    },
    {
      "cell_type": "code",
      "source": [
        "before = np.array([150, 160, 165, 145, 155])\n",
        "first = np.array([140, 155, 150, 130, 135])\n",
        "print(stats.wilcoxon(before, first))"
      ],
      "metadata": {
        "colab": {
          "base_uri": "https://localhost:8080/"
        },
        "id": "o1_3nRu9jFja",
        "outputId": "088c6707-9efd-4aff-ceaa-2043bb4945d5"
      },
      "execution_count": 8,
      "outputs": [
        {
          "output_type": "stream",
          "name": "stdout",
          "text": [
            "WilcoxonResult(statistic=0.0, pvalue=0.0625)\n"
          ]
        }
      ]
    },
    {
      "cell_type": "markdown",
      "source": [
        "Так как pvalue больше чем альфа = 0,05, значит статистически значимых различий между выборками нет. За 10 минут препарат не влияет на уровень давления"
      ],
      "metadata": {
        "id": "VjmsXTeexK-l"
      }
    },
    {
      "cell_type": "markdown",
      "source": [],
      "metadata": {
        "id": "dfvgqujnxndY"
      }
    },
    {
      "cell_type": "markdown",
      "source": [
        " Даны 3 группы учеников плавания. Не соблюдается условие нормальности.\n",
        "В 1 группе время на дистанцию 50 м составляют:\n",
        "\n",
        "56, 60, 62, 55, 71, 67, 59, 58, 64, 67\n",
        "\n",
        "Вторая группа : 57, 58, 69, 48, 72, 70, 68, 71, 50, 53\n",
        "\n",
        "Третья группа: 57, 67, 49, 48, 47, 55, 66, 51, 54\n",
        "\n",
        "Есть\n",
        "ли статистически значимые различия между группами?"
      ],
      "metadata": {
        "id": "5z9GOW2Lxn64"
      }
    },
    {
      "cell_type": "markdown",
      "source": [
        "Сформулируем нулевую и альтернативную гипотезы:\n",
        "\n",
        "H0: μ1= μ2\n",
        "\n",
        "H1: μ1≠ μ2\n",
        "\n",
        "Для работы  с несколькими независимыми выборками, нужно воспользоваться критерием Крускала –Уоллиса"
      ],
      "metadata": {
        "id": "vWGsDhdR-_OU"
      }
    },
    {
      "cell_type": "code",
      "source": [
        "x1 = np.array([56, 60, 62, 55, 71, 67, 59, 58, 64, 67])\n",
        "x2 = np.array([57, 58, 69, 48, 72, 70, 68, 71, 50, 53])\n",
        "x3 = np.array([57, 67, 49, 48, 47, 55, 66, 51, 54])\n",
        "stats.kruskal(x1, x2, x3)"
      ],
      "metadata": {
        "colab": {
          "base_uri": "https://localhost:8080/"
        },
        "id": "lPTmqgri6tGV",
        "outputId": "8ee9e0f9-d266-4a38-fba1-308fc00ad0d1"
      },
      "execution_count": 9,
      "outputs": [
        {
          "output_type": "execute_result",
          "data": {
            "text/plain": [
              "KruskalResult(statistic=5.465564058257224, pvalue=0.0650380998590494)"
            ]
          },
          "metadata": {},
          "execution_count": 9
        }
      ]
    },
    {
      "cell_type": "markdown",
      "source": [
        "Так как pvalue больше чем альфа = 0,05, значит статистически значимых различий между выборками нет. "
      ],
      "metadata": {
        "id": "a2ggDjcm_vZz"
      }
    }
  ]
}