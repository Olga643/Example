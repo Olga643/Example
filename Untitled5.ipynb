{
  "nbformat": 4,
  "nbformat_minor": 0,
  "metadata": {
    "colab": {
      "provenance": [],
      "authorship_tag": "ABX9TyNFoYI5OMnXWE9wk4sa/mYz",
      "include_colab_link": true
    },
    "kernelspec": {
      "name": "python3",
      "display_name": "Python 3"
    },
    "language_info": {
      "name": "python"
    }
  },
  "cells": [
    {
      "cell_type": "markdown",
      "metadata": {
        "id": "view-in-github",
        "colab_type": "text"
      },
      "source": [
        "<a href=\"https://colab.research.google.com/github/Olga643/Example/blob/main/Untitled5.ipynb\" target=\"_parent\"><img src=\"https://colab.research.google.com/assets/colab-badge.svg\" alt=\"Open In Colab\"/></a>"
      ]
    },
    {
      "cell_type": "markdown",
      "source": [
        "Задача 1. Даны две независимые выборки. Не соблюдается условие нормальности\n",
        "x1 380,420, 290\n",
        "y1 140,360,200,900\n",
        "Сделайте вывод по результатам, полученным с помощью функции, имеются ли статистические различия между группами?"
      ],
      "metadata": {
        "id": "sYL5k0ENQ-5Y"
      }
    },
    {
      "cell_type": "code",
      "execution_count": 1,
      "metadata": {
        "id": "2bAZ6V0GQ-U9"
      },
      "outputs": [],
      "source": [
        "from scipy import stats\n",
        "import numpy as np"
      ]
    },
    {
      "cell_type": "markdown",
      "source": [
        "Сформулируем нулевую и альтернативную гипотезы:\n",
        "\n",
        "H0: μ1= μ2\n",
        "\n",
        "H1: μ1≠ μ2\n",
        "\n",
        "Мы будем использовать критерий Манна-Уитни,его следует использовать для сравнения двух независимых выборок, если не соблюдается условие нормальности, или, если выборки очень маленького объема и мы не можем проверить соблюдение данного условия, и в  то же время у нас нет уверенности, что выборки взяты именно из нормально распределенной генеральной совокупности."
      ],
      "metadata": {
        "id": "YkDNNhHFdpTw"
      }
    },
    {
      "cell_type": "code",
      "source": [
        "x1 = np.array([380,420, 290])\n",
        "y1 = np.array([140,360,200,900])\n",
        "print(stats.mannwhitneyu(x1, y1) )"
      ],
      "metadata": {
        "colab": {
          "base_uri": "https://localhost:8080/"
        },
        "id": "BYT026a3RSK_",
        "outputId": "04f5de6d-cfa3-4edf-c2fc-65a651e643a8"
      },
      "execution_count": 4,
      "outputs": [
        {
          "output_type": "stream",
          "name": "stdout",
          "text": [
            "MannwhitneyuResult(statistic=8.0, pvalue=0.6285714285714286)\n"
          ]
        }
      ]
    },
    {
      "cell_type": "markdown",
      "source": [
        "Так как pvalue получился больше альфы, значит статистических различий между группами нет"
      ],
      "metadata": {
        "id": "_rVaMp34fTe_"
      }
    },
    {
      "cell_type": "markdown",
      "source": [],
      "metadata": {
        "id": "MCbqg68rgDfv"
      }
    },
    {
      "cell_type": "markdown",
      "source": [
        "Задача 2. Исследовалось влияние препарата на уровень давления пациентов. Сначала\n",
        "измерялось давление до приема препарата, потом через 10 минут и через 30 минут. Есть\n",
        "ли статистически значимые различия между измерениями давления? В выборках не соблюдается условие нормальности.\n",
        "\n",
        "1е измерение до приема препарата: 150, 160, 165, 145, 155\n",
        "\n",
        "2е измерение через 10 минут: 140, 155, 150, 130, 135\n",
        "\n",
        "3е измерение через 30 минут: 130, 130, 120, 130, 125"
      ],
      "metadata": {
        "id": "o4kNHcBcfrbm"
      }
    },
    {
      "cell_type": "markdown",
      "source": [
        "Сформулируем нулевую и альтернативную гипотезы:\n",
        "\n",
        "H0: μ1= μ2\n",
        "\n",
        "H1: μ1≠ μ2\n",
        "\n",
        "В случае повторных измерений и несоблюдения условий нормальности и равенства дисперсий в исследуемых выборках, применяем критерий Фридмана."
      ],
      "metadata": {
        "id": "fMClTOAshbXI"
      }
    },
    {
      "cell_type": "code",
      "source": [
        "before = np.array([150, 160, 165, 145, 155])\n",
        "first = np.array([140, 155, 150, 130, 135])\n",
        "second = np.array([130, 130, 120, 130, 125])\n",
        "print(stats.friedmanchisquare(before, first, second))"
      ],
      "metadata": {
        "colab": {
          "base_uri": "https://localhost:8080/"
        },
        "id": "5NvP2FRggBQh",
        "outputId": "1f45397a-e74f-4204-839f-b2cc61d257dc"
      },
      "execution_count": 5,
      "outputs": [
        {
          "output_type": "stream",
          "name": "stdout",
          "text": [
            "FriedmanchisquareResult(statistic=9.578947368421062, pvalue=0.00831683351100441)\n"
          ]
        }
      ]
    },
    {
      "cell_type": "markdown",
      "source": [
        "Так как pvalue получился меньше альфы, значит статистические различия между измерениями давления есть, препарат влияет на уровень давления пациентов\n"
      ],
      "metadata": {
        "id": "NvifEqirh0jV"
      }
    },
    {
      "cell_type": "markdown",
      "source": [
        "Задача 3. Сравните 1 и 2 е измерения, предполагая, что 3го измерения через 30 минут не было. Есть\n",
        "ли статистически значимые различия между измерениями давления?"
      ],
      "metadata": {
        "id": "nm_x2XAniTBq"
      }
    },
    {
      "cell_type": "code",
      "source": [
        "before = np.array([150, 160, 165, 145, 155])\n",
        "first = np.array([140, 155, 150, 130, 135])\n",
        "print(stats.wilcoxon(before, first))"
      ],
      "metadata": {
        "colab": {
          "base_uri": "https://localhost:8080/"
        },
        "id": "o1_3nRu9jFja",
        "outputId": "a50d8f07-4ff8-4494-d9d0-7b899f74a88c"
      },
      "execution_count": 6,
      "outputs": [
        {
          "output_type": "stream",
          "name": "stdout",
          "text": [
            "WilcoxonResult(statistic=0.0, pvalue=0.0625)\n"
          ]
        }
      ]
    }
  ]
}